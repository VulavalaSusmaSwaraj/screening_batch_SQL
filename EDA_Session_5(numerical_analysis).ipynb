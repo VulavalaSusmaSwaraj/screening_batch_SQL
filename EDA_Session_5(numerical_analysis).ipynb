{
 "cells": [
  {
   "cell_type": "markdown",
   "id": "43cebe50-fd14-4b45-90c8-b3c5688a7362",
   "metadata": {},
   "source": [
    "***import packages***"
   ]
  },
  {
   "cell_type": "code",
   "execution_count": 1,
   "id": "864f5f69-38d6-4ff4-98d9-747e9ac267cd",
   "metadata": {},
   "outputs": [],
   "source": [
    "import pandas as pd\n",
    "import numpy as np\n",
    "import matplotlib.pyplot as plt\n",
    "import seaborn as sns"
   ]
  },
  {
   "cell_type": "markdown",
   "id": "c9b3ce51-0960-43e7-b2df-c1372b4e3daa",
   "metadata": {},
   "source": [
    "***Read the data***"
   ]
  },
  {
   "cell_type": "code",
   "execution_count": 2,
   "id": "486f58ef-7d5d-4a38-8573-ec35162ca96b",
   "metadata": {},
   "outputs": [
    {
     "data": {
      "text/html": [
       "<div>\n",
       "<style scoped>\n",
       "    .dataframe tbody tr th:only-of-type {\n",
       "        vertical-align: middle;\n",
       "    }\n",
       "\n",
       "    .dataframe tbody tr th {\n",
       "        vertical-align: top;\n",
       "    }\n",
       "\n",
       "    .dataframe thead th {\n",
       "        text-align: right;\n",
       "    }\n",
       "</style>\n",
       "<table border=\"1\" class=\"dataframe\">\n",
       "  <thead>\n",
       "    <tr style=\"text-align: right;\">\n",
       "      <th></th>\n",
       "      <th>case_id</th>\n",
       "      <th>continent</th>\n",
       "      <th>education_of_employee</th>\n",
       "      <th>has_job_experience</th>\n",
       "      <th>requires_job_training</th>\n",
       "      <th>no_of_employees</th>\n",
       "      <th>yr_of_estab</th>\n",
       "      <th>region_of_employment</th>\n",
       "      <th>prevailing_wage</th>\n",
       "      <th>unit_of_wage</th>\n",
       "      <th>full_time_position</th>\n",
       "      <th>case_status</th>\n",
       "    </tr>\n",
       "  </thead>\n",
       "  <tbody>\n",
       "    <tr>\n",
       "      <th>0</th>\n",
       "      <td>EZYV01</td>\n",
       "      <td>Asia</td>\n",
       "      <td>High School</td>\n",
       "      <td>N</td>\n",
       "      <td>N</td>\n",
       "      <td>14513</td>\n",
       "      <td>2007</td>\n",
       "      <td>West</td>\n",
       "      <td>592.2029</td>\n",
       "      <td>Hour</td>\n",
       "      <td>Y</td>\n",
       "      <td>Denied</td>\n",
       "    </tr>\n",
       "    <tr>\n",
       "      <th>1</th>\n",
       "      <td>EZYV02</td>\n",
       "      <td>Asia</td>\n",
       "      <td>Master's</td>\n",
       "      <td>Y</td>\n",
       "      <td>N</td>\n",
       "      <td>2412</td>\n",
       "      <td>2002</td>\n",
       "      <td>Northeast</td>\n",
       "      <td>83425.6500</td>\n",
       "      <td>Year</td>\n",
       "      <td>Y</td>\n",
       "      <td>Certified</td>\n",
       "    </tr>\n",
       "    <tr>\n",
       "      <th>2</th>\n",
       "      <td>EZYV03</td>\n",
       "      <td>Asia</td>\n",
       "      <td>Bachelor's</td>\n",
       "      <td>N</td>\n",
       "      <td>Y</td>\n",
       "      <td>44444</td>\n",
       "      <td>2008</td>\n",
       "      <td>West</td>\n",
       "      <td>122996.8600</td>\n",
       "      <td>Year</td>\n",
       "      <td>Y</td>\n",
       "      <td>Denied</td>\n",
       "    </tr>\n",
       "    <tr>\n",
       "      <th>3</th>\n",
       "      <td>EZYV04</td>\n",
       "      <td>Asia</td>\n",
       "      <td>Bachelor's</td>\n",
       "      <td>N</td>\n",
       "      <td>N</td>\n",
       "      <td>98</td>\n",
       "      <td>1897</td>\n",
       "      <td>West</td>\n",
       "      <td>83434.0300</td>\n",
       "      <td>Year</td>\n",
       "      <td>Y</td>\n",
       "      <td>Denied</td>\n",
       "    </tr>\n",
       "    <tr>\n",
       "      <th>4</th>\n",
       "      <td>EZYV05</td>\n",
       "      <td>Africa</td>\n",
       "      <td>Master's</td>\n",
       "      <td>Y</td>\n",
       "      <td>N</td>\n",
       "      <td>1082</td>\n",
       "      <td>2005</td>\n",
       "      <td>South</td>\n",
       "      <td>149907.3900</td>\n",
       "      <td>Year</td>\n",
       "      <td>Y</td>\n",
       "      <td>Certified</td>\n",
       "    </tr>\n",
       "    <tr>\n",
       "      <th>...</th>\n",
       "      <td>...</td>\n",
       "      <td>...</td>\n",
       "      <td>...</td>\n",
       "      <td>...</td>\n",
       "      <td>...</td>\n",
       "      <td>...</td>\n",
       "      <td>...</td>\n",
       "      <td>...</td>\n",
       "      <td>...</td>\n",
       "      <td>...</td>\n",
       "      <td>...</td>\n",
       "      <td>...</td>\n",
       "    </tr>\n",
       "    <tr>\n",
       "      <th>25475</th>\n",
       "      <td>EZYV25476</td>\n",
       "      <td>Asia</td>\n",
       "      <td>Bachelor's</td>\n",
       "      <td>Y</td>\n",
       "      <td>Y</td>\n",
       "      <td>2601</td>\n",
       "      <td>2008</td>\n",
       "      <td>South</td>\n",
       "      <td>77092.5700</td>\n",
       "      <td>Year</td>\n",
       "      <td>Y</td>\n",
       "      <td>Certified</td>\n",
       "    </tr>\n",
       "    <tr>\n",
       "      <th>25476</th>\n",
       "      <td>EZYV25477</td>\n",
       "      <td>Asia</td>\n",
       "      <td>High School</td>\n",
       "      <td>Y</td>\n",
       "      <td>N</td>\n",
       "      <td>3274</td>\n",
       "      <td>2006</td>\n",
       "      <td>Northeast</td>\n",
       "      <td>279174.7900</td>\n",
       "      <td>Year</td>\n",
       "      <td>Y</td>\n",
       "      <td>Certified</td>\n",
       "    </tr>\n",
       "    <tr>\n",
       "      <th>25477</th>\n",
       "      <td>EZYV25478</td>\n",
       "      <td>Asia</td>\n",
       "      <td>Master's</td>\n",
       "      <td>Y</td>\n",
       "      <td>N</td>\n",
       "      <td>1121</td>\n",
       "      <td>1910</td>\n",
       "      <td>South</td>\n",
       "      <td>146298.8500</td>\n",
       "      <td>Year</td>\n",
       "      <td>N</td>\n",
       "      <td>Certified</td>\n",
       "    </tr>\n",
       "    <tr>\n",
       "      <th>25478</th>\n",
       "      <td>EZYV25479</td>\n",
       "      <td>Asia</td>\n",
       "      <td>Master's</td>\n",
       "      <td>Y</td>\n",
       "      <td>Y</td>\n",
       "      <td>1918</td>\n",
       "      <td>1887</td>\n",
       "      <td>West</td>\n",
       "      <td>86154.7700</td>\n",
       "      <td>Year</td>\n",
       "      <td>Y</td>\n",
       "      <td>Certified</td>\n",
       "    </tr>\n",
       "    <tr>\n",
       "      <th>25479</th>\n",
       "      <td>EZYV25480</td>\n",
       "      <td>Asia</td>\n",
       "      <td>Bachelor's</td>\n",
       "      <td>Y</td>\n",
       "      <td>N</td>\n",
       "      <td>3195</td>\n",
       "      <td>1960</td>\n",
       "      <td>Midwest</td>\n",
       "      <td>70876.9100</td>\n",
       "      <td>Year</td>\n",
       "      <td>Y</td>\n",
       "      <td>Certified</td>\n",
       "    </tr>\n",
       "  </tbody>\n",
       "</table>\n",
       "<p>25480 rows × 12 columns</p>\n",
       "</div>"
      ],
      "text/plain": [
       "         case_id continent education_of_employee has_job_experience  \\\n",
       "0         EZYV01      Asia           High School                  N   \n",
       "1         EZYV02      Asia              Master's                  Y   \n",
       "2         EZYV03      Asia            Bachelor's                  N   \n",
       "3         EZYV04      Asia            Bachelor's                  N   \n",
       "4         EZYV05    Africa              Master's                  Y   \n",
       "...          ...       ...                   ...                ...   \n",
       "25475  EZYV25476      Asia            Bachelor's                  Y   \n",
       "25476  EZYV25477      Asia           High School                  Y   \n",
       "25477  EZYV25478      Asia              Master's                  Y   \n",
       "25478  EZYV25479      Asia              Master's                  Y   \n",
       "25479  EZYV25480      Asia            Bachelor's                  Y   \n",
       "\n",
       "      requires_job_training  no_of_employees  yr_of_estab  \\\n",
       "0                         N            14513         2007   \n",
       "1                         N             2412         2002   \n",
       "2                         Y            44444         2008   \n",
       "3                         N               98         1897   \n",
       "4                         N             1082         2005   \n",
       "...                     ...              ...          ...   \n",
       "25475                     Y             2601         2008   \n",
       "25476                     N             3274         2006   \n",
       "25477                     N             1121         1910   \n",
       "25478                     Y             1918         1887   \n",
       "25479                     N             3195         1960   \n",
       "\n",
       "      region_of_employment  prevailing_wage unit_of_wage full_time_position  \\\n",
       "0                     West         592.2029         Hour                  Y   \n",
       "1                Northeast       83425.6500         Year                  Y   \n",
       "2                     West      122996.8600         Year                  Y   \n",
       "3                     West       83434.0300         Year                  Y   \n",
       "4                    South      149907.3900         Year                  Y   \n",
       "...                    ...              ...          ...                ...   \n",
       "25475                South       77092.5700         Year                  Y   \n",
       "25476            Northeast      279174.7900         Year                  Y   \n",
       "25477                South      146298.8500         Year                  N   \n",
       "25478                 West       86154.7700         Year                  Y   \n",
       "25479              Midwest       70876.9100         Year                  Y   \n",
       "\n",
       "      case_status  \n",
       "0          Denied  \n",
       "1       Certified  \n",
       "2          Denied  \n",
       "3          Denied  \n",
       "4       Certified  \n",
       "...           ...  \n",
       "25475   Certified  \n",
       "25476   Certified  \n",
       "25477   Certified  \n",
       "25478   Certified  \n",
       "25479   Certified  \n",
       "\n",
       "[25480 rows x 12 columns]"
      ]
     },
     "execution_count": 2,
     "metadata": {},
     "output_type": "execute_result"
    }
   ],
   "source": [
    "visa_df=pd.read_csv(\"C:\\\\Users\\\\LENOVO\\\\OneDrive\\\\DATA SCIENCE\\\\data files\\\\Visadataset - Visadataset.csv\")\n",
    "visa_df"
   ]
  },
  {
   "cell_type": "markdown",
   "id": "3382ae01-c936-420b-a6ca-1a4ba09e3b90",
   "metadata": {},
   "source": [
    "***Select the numerical columns***"
   ]
  },
  {
   "cell_type": "code",
   "execution_count": 3,
   "id": "e96e7455-91a8-4f3d-b05a-4a8a2d1d87da",
   "metadata": {},
   "outputs": [
    {
     "data": {
      "text/plain": [
       "Index(['no_of_employees', 'yr_of_estab', 'prevailing_wage'], dtype='object')"
      ]
     },
     "execution_count": 3,
     "metadata": {},
     "output_type": "execute_result"
    }
   ],
   "source": [
    "visa_df.select_dtypes(exclude=\"object\").columns"
   ]
  },
  {
   "cell_type": "markdown",
   "id": "3e8cb1cc-ac0f-48aa-b2b0-73b97e3b166b",
   "metadata": {},
   "source": [
    "***prevailing_wage***"
   ]
  },
  {
   "cell_type": "markdown",
   "id": "4dd4b741-a2c9-4992-a912-ec38509356b7",
   "metadata": {},
   "source": [
    "- len\n",
    "- max\n",
    "- mean\n",
    "- median\n",
    "- standard deviation\n",
    "- 75%\n",
    "- 50%\n",
    "- 25%"
   ]
  },
  {
   "cell_type": "markdown",
   "id": "409a2830-e1df-4487-a60b-b044dc34e449",
   "metadata": {},
   "source": [
    "***count or len***"
   ]
  },
  {
   "cell_type": "code",
   "execution_count": 4,
   "id": "91b1ab15-851a-45ae-b61c-70f36f0034c2",
   "metadata": {},
   "outputs": [
    {
     "data": {
      "text/plain": [
       "25480"
      ]
     },
     "execution_count": 4,
     "metadata": {},
     "output_type": "execute_result"
    }
   ],
   "source": [
    "len(visa_df[\"prevailing_wage\"])"
   ]
  },
  {
   "cell_type": "markdown",
   "id": "8e928a44-00fa-4462-8c70-0ebd4a4de338",
   "metadata": {},
   "source": [
    "***MAX***"
   ]
  },
  {
   "cell_type": "code",
   "execution_count": 5,
   "id": "94a2f26f-871c-4104-a427-0af6bcd23194",
   "metadata": {},
   "outputs": [
    {
     "data": {
      "text/plain": [
       "319210.27"
      ]
     },
     "execution_count": 5,
     "metadata": {},
     "output_type": "execute_result"
    }
   ],
   "source": [
    "visa_df[\"prevailing_wage\"].max()   #pandas"
   ]
  },
  {
   "cell_type": "code",
   "execution_count": 6,
   "id": "5d23356e-34b4-4b4e-8699-30b21b7f5032",
   "metadata": {},
   "outputs": [
    {
     "data": {
      "text/plain": [
       "319210.27"
      ]
     },
     "execution_count": 6,
     "metadata": {},
     "output_type": "execute_result"
    }
   ],
   "source": [
    "np.max(visa_df[\"prevailing_wage\"])   #numpy\n"
   ]
  },
  {
   "cell_type": "markdown",
   "id": "8348a7c1-6947-41f6-a302-b949f96caa1c",
   "metadata": {},
   "source": [
    "***min***"
   ]
  },
  {
   "cell_type": "code",
   "execution_count": 9,
   "id": "62dce315-2306-4167-a431-0fca5482272c",
   "metadata": {},
   "outputs": [
    {
     "data": {
      "text/plain": [
       "2.1367"
      ]
     },
     "execution_count": 9,
     "metadata": {},
     "output_type": "execute_result"
    }
   ],
   "source": [
    "visa_df[\"prevailing_wage\"].min() "
   ]
  },
  {
   "cell_type": "code",
   "execution_count": 10,
   "id": "2846d1f6-df81-4932-af66-9e27ff0a51f2",
   "metadata": {},
   "outputs": [
    {
     "data": {
      "text/plain": [
       "2.1367"
      ]
     },
     "execution_count": 10,
     "metadata": {},
     "output_type": "execute_result"
    }
   ],
   "source": [
    "np.min(visa_df[\"prevailing_wage\"])"
   ]
  },
  {
   "cell_type": "code",
   "execution_count": 11,
   "id": "df6e9fc2-a037-4c3e-9a15-9620908489d7",
   "metadata": {},
   "outputs": [
    {
     "data": {
      "text/plain": [
       "2.1367"
      ]
     },
     "execution_count": 11,
     "metadata": {},
     "output_type": "execute_result"
    }
   ],
   "source": [
    "min(visa_df[\"prevailing_wage\"])"
   ]
  },
  {
   "cell_type": "markdown",
   "id": "9b7c07fa-a87f-452d-9ea7-8812b9e5b817",
   "metadata": {},
   "source": [
    "***mean***"
   ]
  },
  {
   "cell_type": "code",
   "execution_count": 13,
   "id": "8ed42437-e56d-4311-9e29-469ff1ff17f6",
   "metadata": {},
   "outputs": [
    {
     "data": {
      "text/plain": [
       "74455.81459209183"
      ]
     },
     "execution_count": 13,
     "metadata": {},
     "output_type": "execute_result"
    }
   ],
   "source": [
    "visa_df[\"prevailing_wage\"].mean()"
   ]
  },
  {
   "cell_type": "code",
   "execution_count": 14,
   "id": "3a5eca14-bac8-41ec-8cc8-79f1d554f42d",
   "metadata": {},
   "outputs": [
    {
     "data": {
      "text/plain": [
       "74455.81459209183"
      ]
     },
     "execution_count": 14,
     "metadata": {},
     "output_type": "execute_result"
    }
   ],
   "source": [
    "np.mean(visa_df[\"prevailing_wage\"])"
   ]
  },
  {
   "cell_type": "markdown",
   "id": "f169ca3e-20de-4875-b8ad-7da47411007b",
   "metadata": {},
   "source": [
    "***median***"
   ]
  },
  {
   "cell_type": "code",
   "execution_count": 7,
   "id": "ec5fea9a-0ae3-4d23-8664-c5ab3b61c592",
   "metadata": {},
   "outputs": [
    {
     "data": {
      "text/plain": [
       "70308.20999999999"
      ]
     },
     "execution_count": 7,
     "metadata": {},
     "output_type": "execute_result"
    }
   ],
   "source": [
    "visa_df[\"prevailing_wage\"].median()"
   ]
  },
  {
   "cell_type": "code",
   "execution_count": 8,
   "id": "7463429a-38e1-4973-a270-5e50e4c6e372",
   "metadata": {},
   "outputs": [
    {
     "data": {
      "text/plain": [
       "70308.20999999999"
      ]
     },
     "execution_count": 8,
     "metadata": {},
     "output_type": "execute_result"
    }
   ],
   "source": [
    "np.median(visa_df[\"prevailing_wage\"])"
   ]
  },
  {
   "cell_type": "markdown",
   "id": "97d6749a-967b-49ee-989c-71451b79346e",
   "metadata": {},
   "source": [
    "***standard deviation***"
   ]
  },
  {
   "cell_type": "code",
   "execution_count": 9,
   "id": "1c74fc8b-d20b-4f20-b5b3-755579defbe3",
   "metadata": {},
   "outputs": [
    {
     "data": {
      "text/plain": [
       "52815.94232687357"
      ]
     },
     "execution_count": 9,
     "metadata": {},
     "output_type": "execute_result"
    }
   ],
   "source": [
    "visa_df[\"prevailing_wage\"].std()"
   ]
  },
  {
   "cell_type": "code",
   "execution_count": 10,
   "id": "3f49cf6c-5800-4823-90ee-63e42f007b1c",
   "metadata": {},
   "outputs": [
    {
     "data": {
      "text/plain": [
       "52814.90589711402"
      ]
     },
     "execution_count": 10,
     "metadata": {},
     "output_type": "execute_result"
    }
   ],
   "source": [
    "np.std(visa_df[\"prevailing_wage\"])"
   ]
  },
  {
   "cell_type": "markdown",
   "id": "8f7e0103-f4a5-49e5-93b6-9049c497ee24",
   "metadata": {},
   "source": [
    "***Mode is not good option because mode is a numerical variable***"
   ]
  },
  {
   "cell_type": "code",
   "execution_count": 11,
   "id": "067ebda9-a1f9-40ea-b54c-359248c5ea80",
   "metadata": {},
   "outputs": [
    {
     "data": {
      "text/html": [
       "<div>\n",
       "<style scoped>\n",
       "    .dataframe tbody tr th:only-of-type {\n",
       "        vertical-align: middle;\n",
       "    }\n",
       "\n",
       "    .dataframe tbody tr th {\n",
       "        vertical-align: top;\n",
       "    }\n",
       "\n",
       "    .dataframe thead th {\n",
       "        text-align: right;\n",
       "    }\n",
       "</style>\n",
       "<table border=\"1\" class=\"dataframe\">\n",
       "  <thead>\n",
       "    <tr style=\"text-align: right;\">\n",
       "      <th></th>\n",
       "      <th>prevailing_wage</th>\n",
       "    </tr>\n",
       "  </thead>\n",
       "  <tbody>\n",
       "    <tr>\n",
       "      <th>count</th>\n",
       "      <td>25480.00</td>\n",
       "    </tr>\n",
       "    <tr>\n",
       "      <th>max</th>\n",
       "      <td>319210.27</td>\n",
       "    </tr>\n",
       "    <tr>\n",
       "      <th>min</th>\n",
       "      <td>2.14</td>\n",
       "    </tr>\n",
       "    <tr>\n",
       "      <th>median</th>\n",
       "      <td>70308.21</td>\n",
       "    </tr>\n",
       "    <tr>\n",
       "      <th>mean</th>\n",
       "      <td>74455.81</td>\n",
       "    </tr>\n",
       "    <tr>\n",
       "      <th>std</th>\n",
       "      <td>52815.94</td>\n",
       "    </tr>\n",
       "  </tbody>\n",
       "</table>\n",
       "</div>"
      ],
      "text/plain": [
       "        prevailing_wage\n",
       "count          25480.00\n",
       "max           319210.27\n",
       "min                2.14\n",
       "median         70308.21\n",
       "mean           74455.81\n",
       "std            52815.94"
      ]
     },
     "execution_count": 11,
     "metadata": {},
     "output_type": "execute_result"
    }
   ],
   "source": [
    "##all together\n",
    "list_values=[]\n",
    "wage_count=round(len(visa_df[\"prevailing_wage\"]),2)\n",
    "wage_max=round(visa_df[\"prevailing_wage\"].max(),2)\n",
    "wage_min=round(visa_df[\"prevailing_wage\"].min(),2) \n",
    "wage_median=round(visa_df[\"prevailing_wage\"].median(),2)\n",
    "wage_mean=round(visa_df[\"prevailing_wage\"].mean(),2)\n",
    "wage_std=round(visa_df[\"prevailing_wage\"].std(),2)\n",
    "index_val=[\"count\",\"max\",\"min\",\"median\",\"mean\",\"std\"]\n",
    "#create a dataframe\n",
    "list_values=[wage_count,wage_max,wage_min,wage_median,wage_mean,wage_std]\n",
    "pd.DataFrame(list_values,columns=[\"prevailing_wage\"],index=index_val)\n",
    "\n",
    "\n",
    "\n",
    "\n"
   ]
  },
  {
   "cell_type": "markdown",
   "id": "b9dfb515-4c71-413a-8101-22d125c3881a",
   "metadata": {},
   "source": [
    "***Percentile and Quantile***\n",
    "\n",
    "- Percentile:\n",
    "    - np.percentile()\n",
    "    - It will take 2 arguments\n",
    "        - data :a\n",
    "        - percentile :q the vaues varies from 0 to 100\n",
    "        - if you want 50p data q=50\n",
    "\n",
    "- Quantile:\n",
    "     - np.quantile()\n",
    "     - It will take 2 arguments\n",
    "          - data: a\n",
    "          - percentile: q the values varies from o to 1\n",
    "          - If you want 50p q=0.5"
   ]
  },
  {
   "cell_type": "markdown",
   "id": "5c1e3056-64d1-48e8-9985-c26140c14933",
   "metadata": {},
   "source": [
    "***25p-50p-75p***"
   ]
  },
  {
   "cell_type": "code",
   "execution_count": 12,
   "id": "8d93f60b-8753-461a-9787-3f19558fd43d",
   "metadata": {},
   "outputs": [
    {
     "name": "stdout",
     "output_type": "stream",
     "text": [
      "the 25% data is 34015.48\n",
      "the 50% data is 70308.21\n",
      "the 75% data is 107735.51\n"
     ]
    }
   ],
   "source": [
    "wage_25p=round(np.percentile(visa_df[\"prevailing_wage\"],25),2)\n",
    "wage_50p=round(np.percentile(visa_df[\"prevailing_wage\"],50),2)\n",
    "wage_75p=round(np.percentile(visa_df[\"prevailing_wage\"],75),2)\n",
    "print(f\"the 25% data is {wage_25p}\")\n",
    "print(f\"the 50% data is {wage_50p}\")\n",
    "print(f\"the 75% data is {wage_75p}\")"
   ]
  },
  {
   "cell_type": "code",
   "execution_count": 13,
   "id": "cc88f690-6391-478a-8c42-0a9d1cfbef28",
   "metadata": {},
   "outputs": [
    {
     "name": "stdout",
     "output_type": "stream",
     "text": [
      "the 25% data is 34015.48\n",
      "the 50% data is 70308.21\n",
      "the 75% data is 107735.51\n"
     ]
    }
   ],
   "source": [
    "wage_25p=round(np.quantile(visa_df[\"prevailing_wage\"],0.25),2)\n",
    "wage_50p=round(np.quantile(visa_df[\"prevailing_wage\"],0.50),2)\n",
    "wage_75p=round(np.quantile(visa_df[\"prevailing_wage\"],0.75),2)\n",
    "print(f\"the 25% data is {wage_25p}\")\n",
    "print(f\"the 50% data is {wage_50p}\")\n",
    "print(f\"the 75% data is {wage_75p}\")"
   ]
  },
  {
   "cell_type": "markdown",
   "id": "ac5a4725-39a5-4fc0-8fc3-107c074c7656",
   "metadata": {},
   "source": [
    "***Understand the percentiles***\n",
    "- definition of 25 percentile\n",
    "\n",
    "- there are 25% of employees has salary less than 34015\n",
    "- total employees=25480\n",
    "- 25% of employees=25*25480/100=6370\n",
    "\n",
    "- 6370 employees  salary less than 34015\n",
    "- 50% of employees=50*25480/100=12740\n",
    "\n",
    "- 75% of employees=75*25480/100=19110\n"
   ]
  },
  {
   "cell_type": "code",
   "execution_count": 14,
   "id": "a846da99-c19f-4a33-9944-1ec5a7361446",
   "metadata": {},
   "outputs": [
    {
     "data": {
      "text/plain": [
       "6370"
      ]
     },
     "execution_count": 14,
     "metadata": {},
     "output_type": "execute_result"
    }
   ],
   "source": [
    "con=visa_df[\"prevailing_wage\"]<34015   #25percentile\n",
    "len(visa_df[con])"
   ]
  },
  {
   "cell_type": "code",
   "execution_count": 15,
   "id": "bc35626d-8a6b-49df-bbd7-8bf07f942c8b",
   "metadata": {},
   "outputs": [
    {
     "data": {
      "text/plain": [
       "12740"
      ]
     },
     "execution_count": 15,
     "metadata": {},
     "output_type": "execute_result"
    }
   ],
   "source": [
    "con=visa_df[\"prevailing_wage\"]<70308    #50 percentile\n",
    "len(visa_df[con])"
   ]
  },
  {
   "cell_type": "code",
   "execution_count": 16,
   "id": "c22bf3de-4121-4794-a980-26d2640db8d8",
   "metadata": {},
   "outputs": [
    {
     "data": {
      "text/plain": [
       "19110"
      ]
     },
     "execution_count": 16,
     "metadata": {},
     "output_type": "execute_result"
    }
   ],
   "source": [
    "con=visa_df[\"prevailing_wage\"]<107735       #75 percentile\n",
    "len(visa_df[con])"
   ]
  },
  {
   "cell_type": "code",
   "execution_count": 17,
   "id": "2878599b-643c-4dfb-b9c6-46e9e90a0938",
   "metadata": {},
   "outputs": [
    {
     "data": {
      "text/plain": [
       "6370"
      ]
     },
     "execution_count": 17,
     "metadata": {},
     "output_type": "execute_result"
    }
   ],
   "source": [
    "con=visa_df[\"prevailing_wage\"]<wage_25p   #25percentile\n",
    "len(visa_df[con])"
   ]
  },
  {
   "cell_type": "code",
   "execution_count": 18,
   "id": "5d8ed63b-4f65-406c-8e74-885164f98dd6",
   "metadata": {},
   "outputs": [
    {
     "data": {
      "text/plain": [
       "12740"
      ]
     },
     "execution_count": 18,
     "metadata": {},
     "output_type": "execute_result"
    }
   ],
   "source": [
    "con=visa_df[\"prevailing_wage\"]<wage_50p   #25percentile\n",
    "len(visa_df[con])"
   ]
  },
  {
   "cell_type": "code",
   "execution_count": 19,
   "id": "acd79406-6b16-4233-a8fb-81ecd03b3f42",
   "metadata": {},
   "outputs": [
    {
     "data": {
      "text/plain": [
       "19110"
      ]
     },
     "execution_count": 19,
     "metadata": {},
     "output_type": "execute_result"
    }
   ],
   "source": [
    "con=visa_df[\"prevailing_wage\"]<wage_75p   #25percentile\n",
    "len(visa_df[con])"
   ]
  },
  {
   "cell_type": "markdown",
   "id": "865a8111-ca27-400c-9ade-3c66ee5c0a05",
   "metadata": {},
   "source": [
    "***Emperical rule  (68-95-99.7)***\n"
   ]
  },
  {
   "cell_type": "markdown",
   "id": "2a50f43c-ab74-4baa-bd1e-7b72f2c740ea",
   "metadata": {},
   "source": [
    "- First calculate mean value\n",
    "- second calculate std value\n",
    "- con1: mean-1*std\n",
    "- con2: mean+1*std\n",
    "- IF you apply above conditions wage data ,the output count should be equal to 68 percentile data\n",
    "- 68% of total employees:17326  (68*25480/100)\n"
   ]
  },
  {
   "cell_type": "code",
   "execution_count": 22,
   "id": "2cacc0e7-626e-4d74-a484-d1e7525a13c3",
   "metadata": {},
   "outputs": [
    {
     "data": {
      "text/plain": [
       "21639.869999999995"
      ]
     },
     "execution_count": 22,
     "metadata": {},
     "output_type": "execute_result"
    }
   ],
   "source": [
    "con1=wage_mean-1*wage_std\n",
    "con1"
   ]
  },
  {
   "cell_type": "code",
   "execution_count": 21,
   "id": "446c4b39-2d39-48dc-b01f-0b4932b20b31",
   "metadata": {},
   "outputs": [
    {
     "data": {
      "text/plain": [
       "127271.75"
      ]
     },
     "execution_count": 21,
     "metadata": {},
     "output_type": "execute_result"
    }
   ],
   "source": [
    "con2=wage_mean+1*wage_std\n",
    "con2"
   ]
  },
  {
   "cell_type": "code",
   "execution_count": 20,
   "id": "cc5234ea-ca89-47d0-bc09-d3cd5bf87005",
   "metadata": {},
   "outputs": [
    {
     "data": {
      "text/plain": [
       "(17171, 17326.4)"
      ]
     },
     "execution_count": 20,
     "metadata": {},
     "output_type": "execute_result"
    }
   ],
   "source": [
    "v1=wage_mean-1*wage_std        #mean-1std\n",
    "v2=wage_mean+1*wage_std        #mean+1std\n",
    "\n",
    "con1=visa_df[\"prevailing_wage\"]>v1\n",
    "con2=visa_df[\"prevailing_wage\"]<v2\n",
    "\n",
    "count1=len(visa_df[con1&con2])\n",
    "\n",
    "########68*25480/100\n",
    "count1,68*25480/100"
   ]
  },
  {
   "cell_type": "code",
   "execution_count": 66,
   "id": "c70b9f0b-66e3-4aad-a2cd-e15fa1383fda",
   "metadata": {},
   "outputs": [
    {
     "data": {
      "text/plain": [
       "(24582, 24206.0)"
      ]
     },
     "execution_count": 66,
     "metadata": {},
     "output_type": "execute_result"
    }
   ],
   "source": [
    "v1=wage_mean-2*wage_std        #mean-2std\n",
    "v2=wage_mean+2*wage_std        #mean+2std\n",
    "\n",
    "con1=visa_df[\"prevailing_wage\"]>v1\n",
    "con2=visa_df[\"prevailing_wage\"]<v2\n",
    "\n",
    "count1=len(visa_df[con1&con2])\n",
    "\n",
    "########68*25480/100\n",
    "count1,95*25480/100"
   ]
  },
  {
   "cell_type": "code",
   "execution_count": 23,
   "id": "4a4040b3-3191-4153-af61-d63ffcd36cea",
   "metadata": {},
   "outputs": [
    {
     "data": {
      "text/plain": [
       "(25186, 25403.56)"
      ]
     },
     "execution_count": 23,
     "metadata": {},
     "output_type": "execute_result"
    }
   ],
   "source": [
    "v1=wage_mean-3*wage_std        #mean-1std\n",
    "v2=wage_mean+3*wage_std        #mean+1std\n",
    "\n",
    "con1=visa_df[\"prevailing_wage\"]>v1\n",
    "con2=visa_df[\"prevailing_wage\"]<v2\n",
    "\n",
    "count1=len(visa_df[con1&con2])\n",
    "\n",
    "########68*25480/100\n",
    "count1,99.7*25480/100"
   ]
  },
  {
   "cell_type": "code",
   "execution_count": 25,
   "id": "c26488a1-4fe7-482a-a8e7-dae659462330",
   "metadata": {},
   "outputs": [
    {
     "data": {
      "text/html": [
       "<div>\n",
       "<style scoped>\n",
       "    .dataframe tbody tr th:only-of-type {\n",
       "        vertical-align: middle;\n",
       "    }\n",
       "\n",
       "    .dataframe tbody tr th {\n",
       "        vertical-align: top;\n",
       "    }\n",
       "\n",
       "    .dataframe thead th {\n",
       "        text-align: right;\n",
       "    }\n",
       "</style>\n",
       "<table border=\"1\" class=\"dataframe\">\n",
       "  <thead>\n",
       "    <tr style=\"text-align: right;\">\n",
       "      <th></th>\n",
       "      <th>prevailing_wage</th>\n",
       "    </tr>\n",
       "  </thead>\n",
       "  <tbody>\n",
       "    <tr>\n",
       "      <th>count</th>\n",
       "      <td>25480.00</td>\n",
       "    </tr>\n",
       "    <tr>\n",
       "      <th>max</th>\n",
       "      <td>319210.27</td>\n",
       "    </tr>\n",
       "    <tr>\n",
       "      <th>min</th>\n",
       "      <td>2.14</td>\n",
       "    </tr>\n",
       "    <tr>\n",
       "      <th>median</th>\n",
       "      <td>70308.21</td>\n",
       "    </tr>\n",
       "    <tr>\n",
       "      <th>mean</th>\n",
       "      <td>74455.81</td>\n",
       "    </tr>\n",
       "    <tr>\n",
       "      <th>std</th>\n",
       "      <td>52815.94</td>\n",
       "    </tr>\n",
       "    <tr>\n",
       "      <th>25%</th>\n",
       "      <td>34015.48</td>\n",
       "    </tr>\n",
       "    <tr>\n",
       "      <th>50%</th>\n",
       "      <td>70308.21</td>\n",
       "    </tr>\n",
       "    <tr>\n",
       "      <th>75%</th>\n",
       "      <td>107735.51</td>\n",
       "    </tr>\n",
       "  </tbody>\n",
       "</table>\n",
       "</div>"
      ],
      "text/plain": [
       "        prevailing_wage\n",
       "count          25480.00\n",
       "max           319210.27\n",
       "min                2.14\n",
       "median         70308.21\n",
       "mean           74455.81\n",
       "std            52815.94\n",
       "25%            34015.48\n",
       "50%            70308.21\n",
       "75%           107735.51"
      ]
     },
     "execution_count": 25,
     "metadata": {},
     "output_type": "execute_result"
    }
   ],
   "source": [
    "##all together\n",
    "list_values=[]\n",
    "wage_count=round(len(visa_df[\"prevailing_wage\"]),2)\n",
    "wage_max=round(visa_df[\"prevailing_wage\"].max(),2)\n",
    "wage_min=round(visa_df[\"prevailing_wage\"].min(),2) \n",
    "wage_median=round(visa_df[\"prevailing_wage\"].median(),2)\n",
    "wage_mean=round(visa_df[\"prevailing_wage\"].mean(),2)\n",
    "wage_std=round(visa_df[\"prevailing_wage\"].std(),2)\n",
    "#####################################################\n",
    "wage_25p=round(np.quantile(visa_df[\"prevailing_wage\"],0.25),2)\n",
    "wage_50p=round(np.quantile(visa_df[\"prevailing_wage\"],0.50),2)\n",
    "wage_75p=round(np.quantile(visa_df[\"prevailing_wage\"],0.75),2)\n",
    "#####################################################\n",
    "index_val=[\"count\",\"max\",\"min\",\"median\",\"mean\",\"std\",\"25%\",\"50%\",\"75%\"]\n",
    "#create a dataframe\n",
    "list_values=[wage_count,wage_max,wage_min,wage_median,wage_mean,wage_std,wage_25p,wage_50p,wage_75p]\n",
    "pd.DataFrame(list_values,columns=[\"prevailing_wage\"],index=index_val)\n"
   ]
  },
  {
   "cell_type": "markdown",
   "id": "e9bd07c8-b76f-4ed8-8da7-71a6076f9472",
   "metadata": {},
   "source": [
    "***No of employees***"
   ]
  },
  {
   "cell_type": "code",
   "execution_count": 47,
   "id": "58f0cb06-3e62-46df-a0aa-804136c2769b",
   "metadata": {},
   "outputs": [
    {
     "data": {
      "text/html": [
       "<div>\n",
       "<style scoped>\n",
       "    .dataframe tbody tr th:only-of-type {\n",
       "        vertical-align: middle;\n",
       "    }\n",
       "\n",
       "    .dataframe tbody tr th {\n",
       "        vertical-align: top;\n",
       "    }\n",
       "\n",
       "    .dataframe thead th {\n",
       "        text-align: right;\n",
       "    }\n",
       "</style>\n",
       "<table border=\"1\" class=\"dataframe\">\n",
       "  <thead>\n",
       "    <tr style=\"text-align: right;\">\n",
       "      <th></th>\n",
       "      <th>no_of_employees</th>\n",
       "      <th>yr_of_estab</th>\n",
       "      <th>prevailing_wage</th>\n",
       "    </tr>\n",
       "  </thead>\n",
       "  <tbody>\n",
       "    <tr>\n",
       "      <th>count</th>\n",
       "      <td>25480.00</td>\n",
       "      <td>25480.00</td>\n",
       "      <td>25480.00</td>\n",
       "    </tr>\n",
       "    <tr>\n",
       "      <th>max</th>\n",
       "      <td>602069.00</td>\n",
       "      <td>2016.00</td>\n",
       "      <td>319210.27</td>\n",
       "    </tr>\n",
       "    <tr>\n",
       "      <th>min</th>\n",
       "      <td>-26.00</td>\n",
       "      <td>1800.00</td>\n",
       "      <td>2.14</td>\n",
       "    </tr>\n",
       "    <tr>\n",
       "      <th>median</th>\n",
       "      <td>2109.00</td>\n",
       "      <td>1997.00</td>\n",
       "      <td>70308.21</td>\n",
       "    </tr>\n",
       "    <tr>\n",
       "      <th>std</th>\n",
       "      <td>5667.04</td>\n",
       "      <td>1979.41</td>\n",
       "      <td>74455.81</td>\n",
       "    </tr>\n",
       "    <tr>\n",
       "      <th>mean</th>\n",
       "      <td>22877.93</td>\n",
       "      <td>42.37</td>\n",
       "      <td>52815.94</td>\n",
       "    </tr>\n",
       "    <tr>\n",
       "      <th>25p</th>\n",
       "      <td>1022.00</td>\n",
       "      <td>1976.00</td>\n",
       "      <td>34015.48</td>\n",
       "    </tr>\n",
       "    <tr>\n",
       "      <th>50p</th>\n",
       "      <td>2109.00</td>\n",
       "      <td>1997.00</td>\n",
       "      <td>70308.21</td>\n",
       "    </tr>\n",
       "    <tr>\n",
       "      <th>75p</th>\n",
       "      <td>3504.00</td>\n",
       "      <td>2005.00</td>\n",
       "      <td>107735.51</td>\n",
       "    </tr>\n",
       "  </tbody>\n",
       "</table>\n",
       "</div>"
      ],
      "text/plain": [
       "        no_of_employees  yr_of_estab  prevailing_wage\n",
       "count          25480.00     25480.00         25480.00\n",
       "max           602069.00      2016.00        319210.27\n",
       "min              -26.00      1800.00             2.14\n",
       "median          2109.00      1997.00         70308.21\n",
       "std             5667.04      1979.41         74455.81\n",
       "mean           22877.93        42.37         52815.94\n",
       "25p             1022.00      1976.00         34015.48\n",
       "50p             2109.00      1997.00         70308.21\n",
       "75p             3504.00      2005.00        107735.51"
      ]
     },
     "execution_count": 47,
     "metadata": {},
     "output_type": "execute_result"
    }
   ],
   "source": [
    "l1=[]\n",
    "cols=[\"no_of_employees\",\"yr_of_estab\", 'prevailing_wage']\n",
    "for i in cols:\n",
    "    \n",
    "    count=round(len(visa_df[i]),2)\n",
    "    max=round(visa_df[i].max(),2)\n",
    "    min=round(visa_df[i].min(),2) \n",
    "    median=round(visa_df[i].median(),2)\n",
    "    mean=round(visa_df[i].mean(),2)\n",
    "    std=round(visa_df[i].std(),2)\n",
    "    #####################################################\n",
    "    p_25=round(np.quantile(visa_df[i],0.25),2)\n",
    "    p_50=round(np.quantile(visa_df[i],0.50),2)\n",
    "    p_75=round(np.quantile(visa_df[i],0.75),2)\n",
    "    l1.append([count,max,min,median,mean,std,p_25,p_50,p_75])\n",
    "index_val=[\"count\",\"max\",\"min\",\"median\",\"std\",\"mean\",\"25p\",\"50p\",\"75p\"]\n",
    "df=pd.DataFrame(l1,columns=index_val,index=cols).T\n",
    "df\n",
    "\n"
   ]
  },
  {
   "cell_type": "markdown",
   "id": "be48d711-f36e-4fb9-8d9f-d293ca901620",
   "metadata": {},
   "source": [
    "***Describe function***\n",
    "- It is only for numerical data"
   ]
  },
  {
   "cell_type": "code",
   "execution_count": 48,
   "id": "52e945a5-2c7d-4a28-8a07-ee5c42460875",
   "metadata": {},
   "outputs": [
    {
     "data": {
      "text/html": [
       "<div>\n",
       "<style scoped>\n",
       "    .dataframe tbody tr th:only-of-type {\n",
       "        vertical-align: middle;\n",
       "    }\n",
       "\n",
       "    .dataframe tbody tr th {\n",
       "        vertical-align: top;\n",
       "    }\n",
       "\n",
       "    .dataframe thead th {\n",
       "        text-align: right;\n",
       "    }\n",
       "</style>\n",
       "<table border=\"1\" class=\"dataframe\">\n",
       "  <thead>\n",
       "    <tr style=\"text-align: right;\">\n",
       "      <th></th>\n",
       "      <th>no_of_employees</th>\n",
       "      <th>yr_of_estab</th>\n",
       "      <th>prevailing_wage</th>\n",
       "    </tr>\n",
       "  </thead>\n",
       "  <tbody>\n",
       "    <tr>\n",
       "      <th>count</th>\n",
       "      <td>25480.000000</td>\n",
       "      <td>25480.000000</td>\n",
       "      <td>25480.000000</td>\n",
       "    </tr>\n",
       "    <tr>\n",
       "      <th>mean</th>\n",
       "      <td>5667.043210</td>\n",
       "      <td>1979.409929</td>\n",
       "      <td>74455.814592</td>\n",
       "    </tr>\n",
       "    <tr>\n",
       "      <th>std</th>\n",
       "      <td>22877.928848</td>\n",
       "      <td>42.366929</td>\n",
       "      <td>52815.942327</td>\n",
       "    </tr>\n",
       "    <tr>\n",
       "      <th>min</th>\n",
       "      <td>-26.000000</td>\n",
       "      <td>1800.000000</td>\n",
       "      <td>2.136700</td>\n",
       "    </tr>\n",
       "    <tr>\n",
       "      <th>25%</th>\n",
       "      <td>1022.000000</td>\n",
       "      <td>1976.000000</td>\n",
       "      <td>34015.480000</td>\n",
       "    </tr>\n",
       "    <tr>\n",
       "      <th>50%</th>\n",
       "      <td>2109.000000</td>\n",
       "      <td>1997.000000</td>\n",
       "      <td>70308.210000</td>\n",
       "    </tr>\n",
       "    <tr>\n",
       "      <th>75%</th>\n",
       "      <td>3504.000000</td>\n",
       "      <td>2005.000000</td>\n",
       "      <td>107735.512500</td>\n",
       "    </tr>\n",
       "    <tr>\n",
       "      <th>max</th>\n",
       "      <td>602069.000000</td>\n",
       "      <td>2016.000000</td>\n",
       "      <td>319210.270000</td>\n",
       "    </tr>\n",
       "  </tbody>\n",
       "</table>\n",
       "</div>"
      ],
      "text/plain": [
       "       no_of_employees   yr_of_estab  prevailing_wage\n",
       "count     25480.000000  25480.000000     25480.000000\n",
       "mean       5667.043210   1979.409929     74455.814592\n",
       "std       22877.928848     42.366929     52815.942327\n",
       "min         -26.000000   1800.000000         2.136700\n",
       "25%        1022.000000   1976.000000     34015.480000\n",
       "50%        2109.000000   1997.000000     70308.210000\n",
       "75%        3504.000000   2005.000000    107735.512500\n",
       "max      602069.000000   2016.000000    319210.270000"
      ]
     },
     "execution_count": 48,
     "metadata": {},
     "output_type": "execute_result"
    }
   ],
   "source": [
    "visa_df.describe()"
   ]
  },
  {
   "cell_type": "markdown",
   "id": "beab4b49-b705-4636-af04-7ff8b706d461",
   "metadata": {},
   "source": [
    "***Histogram***"
   ]
  },
  {
   "cell_type": "markdown",
   "id": "a35e921a-c361-4fc2-87ad-f1c81bf7ec85",
   "metadata": {},
   "source": [
    "- Histogram can get by matplotlib\n",
    "- Histogram can get by seaborn also\n",
    "- plt.hist()"
   ]
  },
  {
   "cell_type": "code",
   "execution_count": 55,
   "id": "70929267-a5c7-4288-82b3-8589a43f19c4",
   "metadata": {},
   "outputs": [
    {
     "data": {
      "text/plain": [
       "(array([6038., 5504., 5681., 4551., 2334.,  624.,  373.,  240.,  114.,\n",
       "          21.]),\n",
       " array([2.13670000e+00, 3.19229500e+04, 6.38437634e+04, 9.57645767e+04,\n",
       "        1.27685390e+05, 1.59606203e+05, 1.91527017e+05, 2.23447830e+05,\n",
       "        2.55368643e+05, 2.87289457e+05, 3.19210270e+05]),\n",
       " <BarContainer object of 10 artists>)"
      ]
     },
     "execution_count": 55,
     "metadata": {},
     "output_type": "execute_result"
    },
    {
     "data": {
      "image/png": "[encoded data removed]",
      "text/plain": [
       "<Figure size 640x480 with 1 Axes>"
      ]
     },
     "metadata": {},
     "output_type": "display_data"
    }
   ],
   "source": [
    "import matplotlib.pyplot as plt\n",
    "plt.hist(visa_df[\"prevailing_wage\"])\n"
   ]
  },
  {
   "cell_type": "markdown",
   "id": "b4ede84e-ba32-4cc3-ae9b-111e7ae1d1d8",
   "metadata": {},
   "source": [
    "from interval range\n",
    "- 2.13670000e+00 to 3.19229500e+04\n",
    "   - 6038 members have salary\n",
    "- 3.19229500e+04 to 6.38437634e+04\n",
    "   - 5504 members have salary\n",
    "- Histogram will give 3 outputs\n",
    "  - frequency\n",
    "     - in each interval range how many observations are there\n",
    "  - interval\n",
    "     - interval range\n",
    "  - number of intervals"
   ]
  },
  {
   "cell_type": "markdown",
   "id": "6522d8a6-0b58-49df-b608-e23cdf0eb884",
   "metadata": {},
   "source": [
    "***Check point-1***"
   ]
  },
  {
   "cell_type": "code",
   "execution_count": 56,
   "id": "182daebb-fed7-4a9c-a302-e962bf14bf6f",
   "metadata": {},
   "outputs": [
    {
     "data": {
      "text/plain": [
       "(2.1367, 31922.95)"
      ]
     },
     "execution_count": 56,
     "metadata": {},
     "output_type": "execute_result"
    }
   ],
   "source": [
    "2.13670000e+00,3.19229500e+04"
   ]
  },
  {
   "cell_type": "code",
   "execution_count": 58,
   "id": "e4f9da2c-ba3d-4f25-acfa-191901d99d28",
   "metadata": {},
   "outputs": [
    {
     "data": {
      "text/plain": [
       "6038"
      ]
     },
     "execution_count": 58,
     "metadata": {},
     "output_type": "execute_result"
    }
   ],
   "source": [
    "con1=visa_df[\"prevailing_wage\"]>=2.1367  \n",
    "con2=visa_df[\"prevailing_wage\"]<31922.95\n",
    "len(visa_df[con1&con2])"
   ]
  },
  {
   "cell_type": "markdown",
   "id": "77a82976-9741-4929-8a6b-396b73c523db",
   "metadata": {},
   "source": [
    "***Bins***"
   ]
  },
  {
   "cell_type": "code",
   "execution_count": 61,
   "id": "dff5bf3e-c4f6-43b4-9a00-aa358689ee0a",
   "metadata": {},
   "outputs": [
    {
     "name": "stdout",
     "output_type": "stream",
     "text": [
      "<BarContainer object of 100 artists>\n"
     ]
    },
    {
     "data": {
      "image/png": "[encoded data removed]",
      "text/plain": [
       "<Figure size 640x480 with 1 Axes>"
      ]
     },
     "metadata": {},
     "output_type": "display_data"
    }
   ],
   "source": [
    "import matplotlib.pyplot as plt\n",
    "f,i,n=plt.hist(visa_df[\"prevailing_wage\"],bins=100)\n",
    "print(n)\n"
   ]
  },
  {
   "cell_type": "code",
   "execution_count": 62,
   "id": "d64a905f-d2aa-4ed3-8c00-1c55078bcc8d",
   "metadata": {},
   "outputs": [
    {
     "name": "stdout",
     "output_type": "stream",
     "text": [
      "<BarContainer object of 40 artists>\n"
     ]
    },
    {
     "data": {
      "image/png": "[encoded data removed]",
      "text/plain": [
       "<Figure size 640x480 with 1 Axes>"
      ]
     },
     "metadata": {},
     "output_type": "display_data"
    }
   ],
   "source": [
    "import matplotlib.pyplot as plt\n",
    "f,i,n=plt.hist(visa_df[\"prevailing_wage\"],bins=40)\n",
    "print(n)"
   ]
  },
  {
   "cell_type": "code",
   "execution_count": 64,
   "id": "297da730-0a7b-4d25-b1d0-5e973c2bc2d3",
   "metadata": {},
   "outputs": [
    {
     "data": {
      "image/png": "[encoded data removed]",
      "text/plain": [
       "<Figure size 640x480 with 1 Axes>"
      ]
     },
     "metadata": {},
     "output_type": "display_data"
    }
   ],
   "source": [
    "import matplotlib.pyplot as plt\n",
    "f,i,n=plt.hist(visa_df[\"prevailing_wage\"],bins=40)\n",
    "plt.title(\"Histogram\")\n",
    "plt.xlabel(\"Class interval\")\n",
    "plt.ylabel(\"Count\")\n",
    "plt.show()"
   ]
  },
  {
   "cell_type": "code",
   "execution_count": null,
   "id": "a474f224-57b7-4c53-8dd7-ab3a660c4bf1",
   "metadata": {},
   "outputs": [],
   "source": []
  },
  {
   "cell_type": "code",
   "execution_count": 73,
   "id": "75045963-d106-42c8-80d8-af268dead5a3",
   "metadata": {},
   "outputs": [
    {
     "data": {
      "text/plain": [
       "Text(0, 0.5, 'Count')"
      ]
     },
     "execution_count": 73,
     "metadata": {},
     "output_type": "execute_result"
    },
    {
     "data": {
      "image/png": "[encoded data removed]",
      "text/plain": [
       "<Figure size 1800x300 with 3 Axes>"
      ]
     },
     "metadata": {},
     "output_type": "display_data"
    }
   ],
   "source": [
    "###printing the subplots in 3 parts\n",
    "import matplotlib.pyplot as plt\n",
    "plt.figure(figsize=(18,3))\n",
    "plt.subplot(1,3,1)\n",
    "f,i,n=plt.hist(visa_df[\"prevailing_wage\"],bins=40)\n",
    "plt.title(\"Histogram\")\n",
    "plt.xlabel(\"Class interval\")\n",
    "plt.ylabel(\"Count\")\n",
    "\n",
    "plt.subplot(1,3,2)\n",
    "f,i,n=plt.hist(visa_df[\"no_of_employees\"],bins=40)\n",
    "plt.title(\"Histogram\")\n",
    "plt.xlabel(\"Class interval\")\n",
    "plt.ylabel(\"Count\")\n",
    "\n",
    "plt.subplot(1,3,3)\n",
    "f,i,n=plt.hist(visa_df[\"yr_of_estab\"],bins=40)\n",
    "plt.title(\"Histogram\")\n",
    "plt.xlabel(\"Class interval\")\n",
    "plt.ylabel(\"Count\")\n",
    "\n",
    "\n",
    "\n",
    "\n"
   ]
  },
  {
   "cell_type": "code",
   "execution_count": 76,
   "id": "3ff27f7b-604e-461d-9f0b-d7eaa8923978",
   "metadata": {},
   "outputs": [
    {
     "data": {
      "image/png": "[encoded data removed]",
      "text/plain": [
       "<Figure size 1800x300 with 3 Axes>"
      ]
     },
     "metadata": {},
     "output_type": "display_data"
    }
   ],
   "source": [
    "###printing the subplots in 3 parts\n",
    "import matplotlib.pyplot as plt\n",
    "plt.figure(figsize=(18,3))\n",
    "for i in range(len(cols)):\n",
    "        plt.subplot(1,len(cols),i+1)\n",
    "        plt.hist(visa_df[cols[i]],bins=40)\n",
    "        plt.title(f\"Histogram of {cols[i]}\")\n",
    "        plt.xlabel(\"Class interval\")\n",
    "        plt.ylabel(\"Count\")\n",
    "    \n",
    "\n"
   ]
  },
  {
   "cell_type": "markdown",
   "id": "1afe3fe5-5cc7-49e9-a8cd-66d83dfa8727",
   "metadata": {},
   "source": [
    "***Histogram using seaborn***\n",
    "- histplot\n",
    "- distplot"
   ]
  },
  {
   "cell_type": "code",
   "execution_count": 79,
   "id": "6ff1e17b-03bb-4803-a39b-12bfa059d811",
   "metadata": {},
   "outputs": [
    {
     "name": "stderr",
     "output_type": "stream",
     "text": [
      "C:\\Users\\LENOVO\\anaconda3\\Lib\\site-packages\\seaborn\\_oldcore.py:1119: FutureWarning: use_inf_as_na option is deprecated and will be removed in a future version. Convert inf values to NaN before operating instead.\n",
      "  with pd.option_context('mode.use_inf_as_na', True):\n"
     ]
    },
    {
     "data": {
      "text/plain": [
       "<Axes: xlabel='prevailing_wage', ylabel='Count'>"
      ]
     },
     "execution_count": 79,
     "metadata": {},
     "output_type": "execute_result"
    },
    {
     "data": {
      "image/png": "[encoded data removed]",
      "text/plain": [
       "<Figure size 640x480 with 1 Axes>"
      ]
     },
     "metadata": {},
     "output_type": "display_data"
    }
   ],
   "source": [
    "import seaborn as sns\n",
    "sns.histplot(visa_df[\"prevailing_wage\"])"
   ]
  },
  {
   "cell_type": "code",
   "execution_count": 81,
   "id": "6472f0d9-4319-45cb-8f6a-423010cf7231",
   "metadata": {},
   "outputs": [
    {
     "data": {
      "text/plain": [
       "<Axes: xlabel='prevailing_wage', ylabel='Count'>"
      ]
     },
     "execution_count": 81,
     "metadata": {},
     "output_type": "execute_result"
    },
    {
     "data": {
      "image/png": "[encoded data removed]",
      "text/plain": [
       "<Figure size 640x480 with 1 Axes>"
      ]
     },
     "metadata": {},
     "output_type": "display_data"
    }
   ],
   "source": [
    "######TO IGNORE THE WARNINGS\n",
    "import warnings\n",
    "warnings.filterwarnings(\"ignore\")\n",
    "import seaborn as sns\n",
    "sns.histplot(visa_df[\"prevailing_wage\"])"
   ]
  },
  {
   "cell_type": "code",
   "execution_count": 82,
   "id": "4859002a-4c86-4993-9aa2-dc990a3559a9",
   "metadata": {},
   "outputs": [
    {
     "data": {
      "text/plain": [
       "<Axes: xlabel='prevailing_wage', ylabel='Density'>"
      ]
     },
     "execution_count": 82,
     "metadata": {},
     "output_type": "execute_result"
    },
    {
     "data": {
      "image/png": "[encoded data removed]",
      "text/plain": [
       "<Figure size 640x480 with 1 Axes>"
      ]
     },
     "metadata": {},
     "output_type": "display_data"
    }
   ],
   "source": [
    "import warnings\n",
    "warnings.filterwarnings(\"ignore\")\n",
    "import seaborn as sns\n",
    "sns.distplot(visa_df[\"prevailing_wage\"])"
   ]
  },
  {
   "cell_type": "code",
   "execution_count": 85,
   "id": "a208cd76-a86c-45ae-9e1a-f3617c8d392b",
   "metadata": {},
   "outputs": [
    {
     "ename": "KeyError",
     "evalue": "('prevailing_wage', 'no_of_employees', 'yr_of_estab')",
     "output_type": "error",
     "traceback": [
      "\u001b[1;31m---------------------------------------------------------------------------\u001b[0m",
      "\u001b[1;31mKeyError\u001b[0m                                  Traceback (most recent call last)",
      "File \u001b[1;32m~\\anaconda3\\Lib\\site-packages\\pandas\\core\\indexes\\base.py:3791\u001b[0m, in \u001b[0;36mIndex.get_loc\u001b[1;34m(self, key)\u001b[0m\n\u001b[0;32m   3790\u001b[0m \u001b[38;5;28;01mtry\u001b[39;00m:\n\u001b[1;32m-> 3791\u001b[0m     \u001b[38;5;28;01mreturn\u001b[39;00m \u001b[38;5;28mself\u001b[39m\u001b[38;5;241m.\u001b[39m_engine\u001b[38;5;241m.\u001b[39mget_loc(casted_key)\n\u001b[0;32m   3792\u001b[0m \u001b[38;5;28;01mexcept\u001b[39;00m \u001b[38;5;167;01mKeyError\u001b[39;00m \u001b[38;5;28;01mas\u001b[39;00m err:\n",
      "File \u001b[1;32mindex.pyx:152\u001b[0m, in \u001b[0;36mpandas._libs.index.IndexEngine.get_loc\u001b[1;34m()\u001b[0m\n",
      "File \u001b[1;32mindex.pyx:181\u001b[0m, in \u001b[0;36mpandas._libs.index.IndexEngine.get_loc\u001b[1;34m()\u001b[0m\n",
      "File \u001b[1;32mpandas\\_libs\\hashtable_class_helper.pxi:7080\u001b[0m, in \u001b[0;36mpandas._libs.hashtable.PyObjectHashTable.get_item\u001b[1;34m()\u001b[0m\n",
      "File \u001b[1;32mpandas\\_libs\\hashtable_class_helper.pxi:7088\u001b[0m, in \u001b[0;36mpandas._libs.hashtable.PyObjectHashTable.get_item\u001b[1;34m()\u001b[0m\n",
      "\u001b[1;31mKeyError\u001b[0m: ('prevailing_wage', 'no_of_employees', 'yr_of_estab')",
      "\nThe above exception was the direct cause of the following exception:\n",
      "\u001b[1;31mKeyError\u001b[0m                                  Traceback (most recent call last)",
      "Cell \u001b[1;32mIn[85], line 6\u001b[0m\n\u001b[0;32m      4\u001b[0m \u001b[38;5;28;01mfor\u001b[39;00m i \u001b[38;5;129;01min\u001b[39;00m \u001b[38;5;28mrange\u001b[39m(\u001b[38;5;28mlen\u001b[39m(cols)):\n\u001b[0;32m      5\u001b[0m         plt\u001b[38;5;241m.\u001b[39msubplot(\u001b[38;5;241m1\u001b[39m,\u001b[38;5;28mlen\u001b[39m(cols),i\u001b[38;5;241m+\u001b[39m\u001b[38;5;241m1\u001b[39m)\n\u001b[1;32m----> 6\u001b[0m         sns\u001b[38;5;241m.\u001b[39mhistplot(visa_df[\u001b[38;5;124m\"\u001b[39m\u001b[38;5;124mprevailing_wage\u001b[39m\u001b[38;5;124m\"\u001b[39m,\u001b[38;5;124m\"\u001b[39m\u001b[38;5;124mno_of_employees\u001b[39m\u001b[38;5;124m\"\u001b[39m,\u001b[38;5;124m\"\u001b[39m\u001b[38;5;124myr_of_estab\u001b[39m\u001b[38;5;124m\"\u001b[39m])\n",
      "File \u001b[1;32m~\\anaconda3\\Lib\\site-packages\\pandas\\core\\frame.py:3893\u001b[0m, in \u001b[0;36mDataFrame.__getitem__\u001b[1;34m(self, key)\u001b[0m\n\u001b[0;32m   3891\u001b[0m \u001b[38;5;28;01mif\u001b[39;00m \u001b[38;5;28mself\u001b[39m\u001b[38;5;241m.\u001b[39mcolumns\u001b[38;5;241m.\u001b[39mnlevels \u001b[38;5;241m>\u001b[39m \u001b[38;5;241m1\u001b[39m:\n\u001b[0;32m   3892\u001b[0m     \u001b[38;5;28;01mreturn\u001b[39;00m \u001b[38;5;28mself\u001b[39m\u001b[38;5;241m.\u001b[39m_getitem_multilevel(key)\n\u001b[1;32m-> 3893\u001b[0m indexer \u001b[38;5;241m=\u001b[39m \u001b[38;5;28mself\u001b[39m\u001b[38;5;241m.\u001b[39mcolumns\u001b[38;5;241m.\u001b[39mget_loc(key)\n\u001b[0;32m   3894\u001b[0m \u001b[38;5;28;01mif\u001b[39;00m is_integer(indexer):\n\u001b[0;32m   3895\u001b[0m     indexer \u001b[38;5;241m=\u001b[39m [indexer]\n",
      "File \u001b[1;32m~\\anaconda3\\Lib\\site-packages\\pandas\\core\\indexes\\base.py:3798\u001b[0m, in \u001b[0;36mIndex.get_loc\u001b[1;34m(self, key)\u001b[0m\n\u001b[0;32m   3793\u001b[0m     \u001b[38;5;28;01mif\u001b[39;00m \u001b[38;5;28misinstance\u001b[39m(casted_key, \u001b[38;5;28mslice\u001b[39m) \u001b[38;5;129;01mor\u001b[39;00m (\n\u001b[0;32m   3794\u001b[0m         \u001b[38;5;28misinstance\u001b[39m(casted_key, abc\u001b[38;5;241m.\u001b[39mIterable)\n\u001b[0;32m   3795\u001b[0m         \u001b[38;5;129;01mand\u001b[39;00m \u001b[38;5;28many\u001b[39m(\u001b[38;5;28misinstance\u001b[39m(x, \u001b[38;5;28mslice\u001b[39m) \u001b[38;5;28;01mfor\u001b[39;00m x \u001b[38;5;129;01min\u001b[39;00m casted_key)\n\u001b[0;32m   3796\u001b[0m     ):\n\u001b[0;32m   3797\u001b[0m         \u001b[38;5;28;01mraise\u001b[39;00m InvalidIndexError(key)\n\u001b[1;32m-> 3798\u001b[0m     \u001b[38;5;28;01mraise\u001b[39;00m \u001b[38;5;167;01mKeyError\u001b[39;00m(key) \u001b[38;5;28;01mfrom\u001b[39;00m \u001b[38;5;21;01merr\u001b[39;00m\n\u001b[0;32m   3799\u001b[0m \u001b[38;5;28;01mexcept\u001b[39;00m \u001b[38;5;167;01mTypeError\u001b[39;00m:\n\u001b[0;32m   3800\u001b[0m     \u001b[38;5;66;03m# If we have a listlike key, _check_indexing_error will raise\u001b[39;00m\n\u001b[0;32m   3801\u001b[0m     \u001b[38;5;66;03m#  InvalidIndexError. Otherwise we fall through and re-raise\u001b[39;00m\n\u001b[0;32m   3802\u001b[0m     \u001b[38;5;66;03m#  the TypeError.\u001b[39;00m\n\u001b[0;32m   3803\u001b[0m     \u001b[38;5;28mself\u001b[39m\u001b[38;5;241m.\u001b[39m_check_indexing_error(key)\n",
      "\u001b[1;31mKeyError\u001b[0m: ('prevailing_wage', 'no_of_employees', 'yr_of_estab')"
     ]
    },
    {
     "data": {
      "image/png": "[encoded data removed]",
      "text/plain": [
       "<Figure size 640x480 with 1 Axes>"
      ]
     },
     "metadata": {},
     "output_type": "display_data"
    }
   ],
   "source": [
    "import warnings\n",
    "warnings.filterwarnings(\"ignore\")\n",
    "import seaborn as sns\n",
    "for i in range(len(cols)):\n",
    "        plt.subplot(1,len(cols),i+1)\n",
    "        sns.histplot(visa_df[\"prevailing_wage\",\"no_of_employees\",\"yr_of_estab\"])"
   ]
  },
  {
   "cell_type": "code",
   "execution_count": null,
   "id": "6faeb995-3c62-4312-b154-8d3904117a29",
   "metadata": {},
   "outputs": [],
   "source": []
  }
 ],
 "metadata": {
  "kernelspec": {
   "display_name": "Python 3 (ipykernel)",
   "language": "python",
   "name": "python3"
  },
  "language_info": {
   "codemirror_mode": {
    "name": "ipython",
    "version": 3
   },
   "file_extension": ".py",
   "mimetype": "text/x-python",
   "name": "python",
   "nbconvert_exporter": "python",
   "pygments_lexer": "ipython3",
   "version": "3.11.7"
  }
 },
 "nbformat": 4,
 "nbformat_minor": 5
}
